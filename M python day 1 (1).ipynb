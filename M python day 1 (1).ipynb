{
 "cells": [
  {
   "cell_type": "code",
   "execution_count": 17,
   "id": "0c5b8495-cd4a-40cd-bc40-f634646f33d0",
   "metadata": {},
   "outputs": [],
   "source": [
    "message_1 = \"I'm learning Python\""
   ]
  },
  {
   "cell_type": "code",
   "execution_count": 19,
   "id": "c7b3993b-af52-4507-98c0-17409575bd76",
   "metadata": {},
   "outputs": [
    {
     "data": {
      "text/plain": [
       "\"I'm learning Python\""
      ]
     },
     "execution_count": 19,
     "metadata": {},
     "output_type": "execute_result"
    }
   ],
   "source": [
    "message_1\n",
    "\n"
   ]
  },
  {
   "cell_type": "code",
   "execution_count": 37,
   "id": "547cc6d4-29b4-4270-9dab-f56c8fa9570c",
   "metadata": {},
   "outputs": [],
   "source": [
    "message_2 = \"and it's fun!\""
   ]
  },
  {
   "cell_type": "code",
   "execution_count": 40,
   "id": "6f7333a4-b99f-42cd-ab8e-1465c4a93356",
   "metadata": {},
   "outputs": [
    {
     "data": {
      "text/plain": [
       "\"and it's fun!\""
      ]
     },
     "execution_count": 40,
     "metadata": {},
     "output_type": "execute_result"
    }
   ],
   "source": [
    "message_2"
   ]
  },
  {
   "cell_type": "code",
   "execution_count": 42,
   "id": "e3f533a5-da94-4a39-b2eb-6923c78b30f5",
   "metadata": {},
   "outputs": [
    {
     "data": {
      "text/plain": [
       "\"I'm learning Pythonand it's fun!\""
      ]
     },
     "execution_count": 42,
     "metadata": {},
     "output_type": "execute_result"
    }
   ],
   "source": [
    "message_1 + message_2"
   ]
  },
  {
   "cell_type": "code",
   "execution_count": 49,
   "id": "161956fa-7722-4ad8-8106-c2b7f029743a",
   "metadata": {},
   "outputs": [],
   "source": [
    "message = message_1 + ' ' + message_2"
   ]
  },
  {
   "cell_type": "code",
   "execution_count": 51,
   "id": "6d11bb6d-a340-4af7-9f4f-6d95633a6981",
   "metadata": {},
   "outputs": [
    {
     "data": {
      "text/plain": [
       "\"I'm learning Python and it's fun!\""
      ]
     },
     "execution_count": 51,
     "metadata": {},
     "output_type": "execute_result"
    }
   ],
   "source": [
    "message"
   ]
  },
  {
   "cell_type": "code",
   "execution_count": 53,
   "id": "935a6d8e-5a5a-4723-bba6-b41f744ee114",
   "metadata": {},
   "outputs": [
    {
     "data": {
      "text/plain": [
       "'Hello World'"
      ]
     },
     "execution_count": 53,
     "metadata": {},
     "output_type": "execute_result"
    }
   ],
   "source": [
    "f'Hello World'"
   ]
  },
  {
   "cell_type": "code",
   "execution_count": 55,
   "id": "88e4c79a-0f83-4805-b8f8-a286ae0d8559",
   "metadata": {},
   "outputs": [
    {
     "data": {
      "text/plain": [
       "\"I'm learning Python\""
      ]
     },
     "execution_count": 55,
     "metadata": {},
     "output_type": "execute_result"
    }
   ],
   "source": [
    "f'{message_1}'"
   ]
  },
  {
   "cell_type": "code",
   "execution_count": 57,
   "id": "5677335b-b7b3-4664-8c44-6b1af746d8f0",
   "metadata": {},
   "outputs": [
    {
     "data": {
      "text/plain": [
       "\"I'm learning Python and it's fun!\""
      ]
     },
     "execution_count": 57,
     "metadata": {},
     "output_type": "execute_result"
    }
   ],
   "source": [
    "f'{message_1} {message_2}'"
   ]
  },
  {
   "cell_type": "markdown",
   "id": "3953179c-f6fc-4de7-80a8-a0804b8bd23f",
   "metadata": {},
   "source": [
    "#List\n"
   ]
  },
  {
   "cell_type": "code",
   "execution_count": 1,
   "id": "9d805585-0cec-483b-a627-9ccea1cfc500",
   "metadata": {},
   "outputs": [],
   "source": [
    "countries = ['United States','India','China','Brazil']"
   ]
  },
  {
   "cell_type": "code",
   "execution_count": 3,
   "id": "34c99a27-8fc3-4652-b728-ff7251ba483c",
   "metadata": {},
   "outputs": [
    {
     "data": {
      "text/plain": [
       "['United States', 'India', 'China', 'Brazil']"
      ]
     },
     "execution_count": 3,
     "metadata": {},
     "output_type": "execute_result"
    }
   ],
   "source": [
    "countries\n"
   ]
  },
  {
   "cell_type": "code",
   "execution_count": 10,
   "id": "aff7d3c9-b90d-4d89-80ea-56fc0eb184bf",
   "metadata": {},
   "outputs": [
    {
     "name": "stdout",
     "output_type": "stream",
     "text": [
      "United States\n",
      "India\n",
      "China\n",
      "Brazil\n"
     ]
    }
   ],
   "source": [
    "print(countries[0])\n",
    "print(countries[1])\n",
    "print(countries[2])\n",
    "print(countries[3])\n"
   ]
  },
  {
   "cell_type": "code",
   "execution_count": 12,
   "id": "25b267e0-bed7-4162-9311-f3406507585e",
   "metadata": {},
   "outputs": [
    {
     "data": {
      "text/plain": [
       "'Brazil'"
      ]
     },
     "execution_count": 12,
     "metadata": {},
     "output_type": "execute_result"
    }
   ],
   "source": [
    "countries[-1]"
   ]
  },
  {
   "cell_type": "code",
   "execution_count": 14,
   "id": "54e46502-a2be-42f2-8ce2-f79ec8ec810c",
   "metadata": {},
   "outputs": [
    {
     "data": {
      "text/plain": [
       "'United States'"
      ]
     },
     "execution_count": 14,
     "metadata": {},
     "output_type": "execute_result"
    }
   ],
   "source": [
    "countries[-4]"
   ]
  },
  {
   "cell_type": "code",
   "execution_count": 18,
   "id": "0da3f046-ab55-4bc8-9456-234679fdf07d",
   "metadata": {},
   "outputs": [],
   "source": [
    "#slicing\n",
    "list_name[start:stop]\n"
   ]
  },
  {
   "cell_type": "code",
   "execution_count": 20,
   "id": "ff476fe2-6db4-4e66-980a-a7004cd93bdb",
   "metadata": {},
   "outputs": [
    {
     "data": {
      "text/plain": [
       "['United States', 'India', 'China']"
      ]
     },
     "execution_count": 20,
     "metadata": {},
     "output_type": "execute_result"
    }
   ],
   "source": [
    "countries[0:3]"
   ]
  },
  {
   "cell_type": "code",
   "execution_count": 22,
   "id": "f654351e-ca71-492b-ab77-4a4926218ad2",
   "metadata": {},
   "outputs": [
    {
     "data": {
      "text/plain": [
       "['United States']"
      ]
     },
     "execution_count": 22,
     "metadata": {},
     "output_type": "execute_result"
    }
   ],
   "source": [
    "countries[0:1]"
   ]
  },
  {
   "cell_type": "code",
   "execution_count": 37,
   "id": "d905aa7e-49b7-4789-b1d4-c1f202ddae4e",
   "metadata": {},
   "outputs": [
    {
     "data": {
      "text/plain": [
       "['India', 'China', 'Brazil']"
      ]
     },
     "execution_count": 37,
     "metadata": {},
     "output_type": "execute_result"
    }
   ],
   "source": [
    "countries[1:4]"
   ]
  },
  {
   "cell_type": "code",
   "execution_count": 39,
   "id": "16fcf77e-6c2e-4466-9b45-53cdc544a99d",
   "metadata": {},
   "outputs": [
    {
     "data": {
      "text/plain": [
       "['India', 'China', 'Brazil']"
      ]
     },
     "execution_count": 39,
     "metadata": {},
     "output_type": "execute_result"
    }
   ],
   "source": [
    "countries[1:]"
   ]
  },
  {
   "cell_type": "code",
   "execution_count": 46,
   "id": "d3f75323-6275-4b0c-985f-64710c0a231c",
   "metadata": {},
   "outputs": [
    {
     "data": {
      "text/plain": [
       "['United States', 'India']"
      ]
     },
     "execution_count": 46,
     "metadata": {},
     "output_type": "execute_result"
    }
   ],
   "source": [
    "countries[:2]"
   ]
  },
  {
   "cell_type": "markdown",
   "id": "09b9c210-2891-4801-b574-6a0becbcd3eb",
   "metadata": {},
   "source": [
    "#adding elements to a list"
   ]
  },
  {
   "cell_type": "code",
   "execution_count": 52,
   "id": "4487720e-5815-4ce0-b075-902d9390c93f",
   "metadata": {},
   "outputs": [
    {
     "data": {
      "text/plain": [
       "['United States', 'India', 'China', 'Brazil']"
      ]
     },
     "execution_count": 52,
     "metadata": {},
     "output_type": "execute_result"
    }
   ],
   "source": [
    "countries"
   ]
  },
  {
   "cell_type": "code",
   "execution_count": 54,
   "id": "7f7ce92e-36a9-4d16-901d-1afd45fccc9a",
   "metadata": {},
   "outputs": [],
   "source": [
    "countries.append('Canada')\n"
   ]
  },
  {
   "cell_type": "code",
   "execution_count": 56,
   "id": "2a5d789b-36e9-4199-b0c9-01d2a5fe5474",
   "metadata": {},
   "outputs": [
    {
     "data": {
      "text/plain": [
       "['United States', 'India', 'China', 'Brazil', 'Canada']"
      ]
     },
     "execution_count": 56,
     "metadata": {},
     "output_type": "execute_result"
    }
   ],
   "source": [
    "countries"
   ]
  },
  {
   "cell_type": "code",
   "execution_count": 58,
   "id": "127d6453-e964-49cf-94ce-4327e3c2b888",
   "metadata": {},
   "outputs": [],
   "source": [
    "countries.insert(0,'Spain')"
   ]
  },
  {
   "cell_type": "code",
   "execution_count": 60,
   "id": "4be196a9-2a18-4dbf-ade3-939cc37b1f33",
   "metadata": {},
   "outputs": [
    {
     "data": {
      "text/plain": [
       "['Spain', 'United States', 'India', 'China', 'Brazil', 'Canada']"
      ]
     },
     "execution_count": 60,
     "metadata": {},
     "output_type": "execute_result"
    }
   ],
   "source": [
    "countries"
   ]
  },
  {
   "cell_type": "code",
   "execution_count": 62,
   "id": "281e8969-4df1-4c15-962e-8b14acc0fbbf",
   "metadata": {},
   "outputs": [],
   "source": [
    "countries_2 = ['UK','Germany]','Austraila']"
   ]
  },
  {
   "cell_type": "code",
   "execution_count": 64,
   "id": "ec182fbf-6af1-4c97-aad5-58c331ce8fc0",
   "metadata": {},
   "outputs": [
    {
     "data": {
      "text/plain": [
       "['UK', 'Germany]', 'Austraila']"
      ]
     },
     "execution_count": 64,
     "metadata": {},
     "output_type": "execute_result"
    }
   ],
   "source": [
    "countries_2"
   ]
  },
  {
   "cell_type": "code",
   "execution_count": 66,
   "id": "f5213a43-5f44-45f0-b7f8-807e9eb8aa07",
   "metadata": {},
   "outputs": [
    {
     "data": {
      "text/plain": [
       "['Spain',\n",
       " 'United States',\n",
       " 'India',\n",
       " 'China',\n",
       " 'Brazil',\n",
       " 'Canada',\n",
       " 'UK',\n",
       " 'Germany]',\n",
       " 'Austraila']"
      ]
     },
     "execution_count": 66,
     "metadata": {},
     "output_type": "execute_result"
    }
   ],
   "source": [
    "countries + countries_2"
   ]
  },
  {
   "cell_type": "code",
   "execution_count": 68,
   "id": "3f931517-5007-4ba4-92e6-7101f25211ed",
   "metadata": {},
   "outputs": [],
   "source": [
    "nested_list = [countries, countries_2]"
   ]
  },
  {
   "cell_type": "code",
   "execution_count": 70,
   "id": "c522a2ac-b8ba-4caa-960f-c19c352c7578",
   "metadata": {},
   "outputs": [
    {
     "data": {
      "text/plain": [
       "[['Spain', 'United States', 'India', 'China', 'Brazil', 'Canada'],\n",
       " ['UK', 'Germany]', 'Austraila']]"
      ]
     },
     "execution_count": 70,
     "metadata": {},
     "output_type": "execute_result"
    }
   ],
   "source": [
    "nested_list"
   ]
  },
  {
   "cell_type": "markdown",
   "id": "6fffc7fa-f5c7-4641-ab48-d999078c081e",
   "metadata": {},
   "source": [
    "#removing an element"
   ]
  },
  {
   "cell_type": "code",
   "execution_count": 97,
   "id": "2016873b-7629-4a79-ba0a-b14e7fce14aa",
   "metadata": {},
   "outputs": [],
   "source": [
    "countries = ['Spain','United States','India','China','Brazil','Canada']"
   ]
  },
  {
   "cell_type": "code",
   "execution_count": 99,
   "id": "cb124fca-0a05-4ba1-8794-0e17962251d2",
   "metadata": {},
   "outputs": [],
   "source": [
    "countries.remove('United States')"
   ]
  },
  {
   "cell_type": "code",
   "execution_count": 101,
   "id": "2a52ae56-be42-4cef-a196-52c932bcfaee",
   "metadata": {},
   "outputs": [
    {
     "data": {
      "text/plain": [
       "['Spain', 'India', 'China', 'Brazil', 'Canada']"
      ]
     },
     "execution_count": 101,
     "metadata": {},
     "output_type": "execute_result"
    }
   ],
   "source": [
    "countries"
   ]
  },
  {
   "cell_type": "code",
   "execution_count": 103,
   "id": "b73b9a29-d0ae-4e0f-8f77-345c75a32eb8",
   "metadata": {},
   "outputs": [
    {
     "data": {
      "text/plain": [
       "'Canada'"
      ]
     },
     "execution_count": 103,
     "metadata": {},
     "output_type": "execute_result"
    }
   ],
   "source": [
    "countries.pop(-1)"
   ]
  },
  {
   "cell_type": "code",
   "execution_count": 105,
   "id": "bc7a4985-0ba6-4881-8bff-7aebb7234f5f",
   "metadata": {},
   "outputs": [
    {
     "data": {
      "text/plain": [
       "['Spain', 'India', 'China', 'Brazil']"
      ]
     },
     "execution_count": 105,
     "metadata": {},
     "output_type": "execute_result"
    }
   ],
   "source": [
    "countries"
   ]
  },
  {
   "cell_type": "code",
   "execution_count": 107,
   "id": "6a5330e7-9cab-433e-8965-2d944cec8309",
   "metadata": {},
   "outputs": [],
   "source": [
    "del countries[0]"
   ]
  },
  {
   "cell_type": "code",
   "execution_count": 109,
   "id": "9d439e31-2f2b-4c45-9716-62feb404ba16",
   "metadata": {},
   "outputs": [
    {
     "data": {
      "text/plain": [
       "['India', 'China', 'Brazil']"
      ]
     },
     "execution_count": 109,
     "metadata": {},
     "output_type": "execute_result"
    }
   ],
   "source": [
    "countries"
   ]
  },
  {
   "cell_type": "markdown",
   "id": "e5c35be7-7a75-410a-8b5d-eb291cc31ad3",
   "metadata": {},
   "source": [
    "# sorting a list\n"
   ]
  },
  {
   "cell_type": "code",
   "execution_count": 4,
   "id": "bd61880c-f660-42d6-94a8-ed7ebaab18e8",
   "metadata": {},
   "outputs": [],
   "source": [
    "numbers = [4,3,10,7,1,2]"
   ]
  },
  {
   "cell_type": "code",
   "execution_count": 6,
   "id": "216296c0-50cf-45ff-99ac-78551e2d5a5e",
   "metadata": {},
   "outputs": [],
   "source": [
    "numbers.sort()"
   ]
  },
  {
   "cell_type": "code",
   "execution_count": 8,
   "id": "fcbefd40-b00c-46b5-9a6d-d873d883a442",
   "metadata": {},
   "outputs": [
    {
     "data": {
      "text/plain": [
       "[1, 2, 3, 4, 7, 10]"
      ]
     },
     "execution_count": 8,
     "metadata": {},
     "output_type": "execute_result"
    }
   ],
   "source": [
    "numbers"
   ]
  },
  {
   "cell_type": "code",
   "execution_count": 12,
   "id": "364d4204-f1d4-41e4-8816-f02491abcd97",
   "metadata": {},
   "outputs": [
    {
     "data": {
      "text/plain": [
       "[10, 7, 4, 3, 2, 1]"
      ]
     },
     "execution_count": 12,
     "metadata": {},
     "output_type": "execute_result"
    }
   ],
   "source": [
    "numbers = [4,3,10,7,1,2]\n",
    "numbers.sort(reverse=True)\n",
    "numbers"
   ]
  },
  {
   "cell_type": "markdown",
   "id": "e5c5aa03-f53e-4fde-acbf-8ff179901edc",
   "metadata": {},
   "source": [
    "# update an element"
   ]
  },
  {
   "cell_type": "code",
   "execution_count": 15,
   "id": "1ef5d679-9428-4e9c-8100-6aa6471303ca",
   "metadata": {},
   "outputs": [
    {
     "data": {
      "text/plain": [
       "[1000, 7, 4, 3, 2, 1]"
      ]
     },
     "execution_count": 15,
     "metadata": {},
     "output_type": "execute_result"
    }
   ],
   "source": [
    "numbers[0] = 1000\n",
    "numbers"
   ]
  },
  {
   "cell_type": "markdown",
   "id": "5f3acae2-d14f-42a7-bacb-77b0dd1734d3",
   "metadata": {},
   "source": [
    "# copying a list"
   ]
  },
  {
   "cell_type": "code",
   "execution_count": 22,
   "id": "a07c8078-d618-46eb-a452-aa763e231a94",
   "metadata": {},
   "outputs": [
    {
     "data": {
      "text/plain": [
       "['United States', 'India', 'China', 'Brazil']"
      ]
     },
     "execution_count": 22,
     "metadata": {},
     "output_type": "execute_result"
    }
   ],
   "source": [
    "countries = ['United States','India','China','Brazil']\n",
    "countries[:]"
   ]
  },
  {
   "cell_type": "code",
   "execution_count": 24,
   "id": "efd2c3da-f9d3-4cc9-b3f0-a825fe4a267a",
   "metadata": {},
   "outputs": [],
   "source": [
    "countries = ['United States','India','China','Brazil']\n",
    "new_list = countries[:]"
   ]
  },
  {
   "cell_type": "code",
   "execution_count": 27,
   "id": "5bf0c507-38e9-4843-b0f9-28d9155cb7e9",
   "metadata": {},
   "outputs": [
    {
     "data": {
      "text/plain": [
       "['United States', 'India', 'China', 'Brazil']"
      ]
     },
     "execution_count": 27,
     "metadata": {},
     "output_type": "execute_result"
    }
   ],
   "source": [
    "new_list"
   ]
  },
  {
   "cell_type": "code",
   "execution_count": 29,
   "id": "da832c5f-635d-4ad4-907d-4e5882acb971",
   "metadata": {},
   "outputs": [],
   "source": [
    "new_list_2 = countries.copy()"
   ]
  },
  {
   "cell_type": "code",
   "execution_count": 31,
   "id": "91dc3b5e-9900-4327-b7ac-3b28e19b95cf",
   "metadata": {},
   "outputs": [
    {
     "data": {
      "text/plain": [
       "['United States', 'India', 'China', 'Brazil']"
      ]
     },
     "execution_count": 31,
     "metadata": {},
     "output_type": "execute_result"
    }
   ],
   "source": [
    "new_list_2"
   ]
  },
  {
   "cell_type": "markdown",
   "id": "fd56c491-935f-4935-9c00-162b225824a8",
   "metadata": {},
   "source": [
    "# Dictionary"
   ]
  },
  {
   "cell_type": "code",
   "execution_count": 34,
   "id": "f7889a75-bbfc-4f41-a354-0572be954070",
   "metadata": {},
   "outputs": [],
   "source": [
    "my_dict = {'key1':'value1', 'key2':'value2'}"
   ]
  },
  {
   "cell_type": "code",
   "execution_count": 74,
   "id": "1a7a7721-0b94-45e8-8c22-0009ba7f482b",
   "metadata": {},
   "outputs": [],
   "source": [
    "my_data = {'name':'Zamin', 'age':'23'}"
   ]
  },
  {
   "cell_type": "code",
   "execution_count": 76,
   "id": "86c80090-55d0-4915-9238-c40109539b02",
   "metadata": {},
   "outputs": [
    {
     "data": {
      "text/plain": [
       "{'name': 'Zamin', 'age': '23'}"
      ]
     },
     "execution_count": 76,
     "metadata": {},
     "output_type": "execute_result"
    }
   ],
   "source": [
    "my_data"
   ]
  },
  {
   "cell_type": "code",
   "execution_count": 13,
   "id": "a3c012a6-bb37-4c5c-98e5-83fff10cf2d3",
   "metadata": {},
   "outputs": [
    {
     "data": {
      "text/plain": [
       "dict_keys(['name', 'age'])"
      ]
     },
     "execution_count": 13,
     "metadata": {},
     "output_type": "execute_result"
    }
   ],
   "source": [
    "my_data.keys()"
   ]
  },
  {
   "cell_type": "code",
   "execution_count": 15,
   "id": "6adb3c1f-8723-43c2-8019-ae5f9ba10c48",
   "metadata": {},
   "outputs": [
    {
     "data": {
      "text/plain": [
       "dict_values(['Zamin', '23'])"
      ]
     },
     "execution_count": 15,
     "metadata": {},
     "output_type": "execute_result"
    }
   ],
   "source": [
    "my_data.values()"
   ]
  },
  {
   "cell_type": "code",
   "execution_count": 78,
   "id": "687d55e4-5147-4bed-ab74-0fa15036b443",
   "metadata": {},
   "outputs": [
    {
     "data": {
      "text/plain": [
       "dict_items([('name', 'Zamin'), ('age', '23')])"
      ]
     },
     "execution_count": 78,
     "metadata": {},
     "output_type": "execute_result"
    }
   ],
   "source": [
    "my_data.items()"
   ]
  },
  {
   "cell_type": "code",
   "execution_count": 19,
   "id": "977e1d13-6571-45f8-9a39-87dd9c8883e3",
   "metadata": {},
   "outputs": [],
   "source": [
    "my_data['height'] = 1.7"
   ]
  },
  {
   "cell_type": "code",
   "execution_count": 80,
   "id": "cd66524c-d594-40a6-84a2-a9f16cef3e96",
   "metadata": {},
   "outputs": [
    {
     "data": {
      "text/plain": [
       "{'name': 'Zamin', 'age': '23'}"
      ]
     },
     "execution_count": 80,
     "metadata": {},
     "output_type": "execute_result"
    }
   ],
   "source": [
    "my_data"
   ]
  },
  {
   "cell_type": "code",
   "execution_count": 84,
   "id": "6add45ab-7d0f-4573-a235-24e101d38c95",
   "metadata": {},
   "outputs": [],
   "source": [
    "my_data.update({'height':1.9})"
   ]
  },
  {
   "cell_type": "code",
   "execution_count": 86,
   "id": "b8891f1e-d730-4cac-a701-32bbaa971c30",
   "metadata": {},
   "outputs": [
    {
     "data": {
      "text/plain": [
       "{'name': 'Zamin', 'age': '23', 'height': 1.9}"
      ]
     },
     "execution_count": 86,
     "metadata": {},
     "output_type": "execute_result"
    }
   ],
   "source": [
    "my_data"
   ]
  },
  {
   "cell_type": "markdown",
   "id": "e08f20ba-dbba-4ce4-b107-3be1ca32a977",
   "metadata": {},
   "source": [
    "# copy a dictionary"
   ]
  },
  {
   "cell_type": "code",
   "execution_count": 39,
   "id": "0cb5f036-ce25-4302-837e-66ccae31802c",
   "metadata": {},
   "outputs": [],
   "source": [
    "new_dict = my_data.copy()"
   ]
  },
  {
   "cell_type": "code",
   "execution_count": 41,
   "id": "62654ba3-38e3-48e6-8bef-be2f6fce8781",
   "metadata": {},
   "outputs": [
    {
     "data": {
      "text/plain": [
       "{'name': 'Zamin', 'age': '23', 'height': 1.9}"
      ]
     },
     "execution_count": 41,
     "metadata": {},
     "output_type": "execute_result"
    }
   ],
   "source": [
    "new_dict"
   ]
  },
  {
   "cell_type": "markdown",
   "id": "60621ab5-5b12-4283-b2d3-4cc6e6134a66",
   "metadata": {},
   "source": [
    "# remove element"
   ]
  },
  {
   "cell_type": "code",
   "execution_count": 88,
   "id": "065ceae3-4a04-4e23-9b68-48d962522baa",
   "metadata": {},
   "outputs": [
    {
     "data": {
      "text/plain": [
       "'Zamin'"
      ]
     },
     "execution_count": 88,
     "metadata": {},
     "output_type": "execute_result"
    }
   ],
   "source": [
    "my_data.pop('name')"
   ]
  },
  {
   "cell_type": "code",
   "execution_count": 90,
   "id": "26d2ca7a-99a3-4ca6-95a7-3982fb0f8b82",
   "metadata": {},
   "outputs": [
    {
     "data": {
      "text/plain": [
       "{'age': '23', 'height': 1.9}"
      ]
     },
     "execution_count": 90,
     "metadata": {},
     "output_type": "execute_result"
    }
   ],
   "source": [
    "my_data"
   ]
  },
  {
   "cell_type": "code",
   "execution_count": 92,
   "id": "e8c237af-35c1-4c1b-9611-9200e55c3ac5",
   "metadata": {},
   "outputs": [],
   "source": [
    "del my_data['age']"
   ]
  },
  {
   "cell_type": "code",
   "execution_count": 94,
   "id": "f83ed37a-02dc-41f6-967f-df585aa89f4b",
   "metadata": {},
   "outputs": [
    {
     "data": {
      "text/plain": [
       "{'height': 1.9}"
      ]
     },
     "execution_count": 94,
     "metadata": {},
     "output_type": "execute_result"
    }
   ],
   "source": [
    "my_data"
   ]
  },
  {
   "cell_type": "code",
   "execution_count": 96,
   "id": "b1c29cd8-3b43-44a2-80c7-1ed57c7c79c5",
   "metadata": {},
   "outputs": [],
   "source": [
    "my_data.clear()"
   ]
  },
  {
   "cell_type": "code",
   "execution_count": 98,
   "id": "846f5be5-c157-4d30-9e42-429b757ddc38",
   "metadata": {},
   "outputs": [
    {
     "data": {
      "text/plain": [
       "{}"
      ]
     },
     "execution_count": 98,
     "metadata": {},
     "output_type": "execute_result"
    }
   ],
   "source": [
    "my_data"
   ]
  },
  {
   "cell_type": "markdown",
   "id": "edaf1ec0-7224-4432-9586-058ef0a04d6d",
   "metadata": {},
   "source": [
    "# If Statement\n",
    "if <condition>:\n",
    "    <code>\n",
    "elif <condition>:\n",
    "    <code>\n",
    "    \n",
    "...\n",
    "else:\n",
    "    <code>"
   ]
  },
  {
   "cell_type": "code",
   "execution_count": 111,
   "id": "e813bbf0-8588-4299-8ee0-7e6b6d9a2566",
   "metadata": {},
   "outputs": [
    {
     "name": "stdout",
     "output_type": "stream",
     "text": [
      "You are an adult\n"
     ]
    }
   ],
   "source": [
    "age = 18\n",
    "\n",
    "if age>=18:\n",
    "    print('You are an adult')\n",
    "else:\n",
    "    print('You are a kid')"
   ]
  },
  {
   "cell_type": "code",
   "execution_count": 113,
   "id": "1cd71ce7-bf97-4357-9c81-c33aa7d31bc6",
   "metadata": {},
   "outputs": [
    {
     "name": "stdout",
     "output_type": "stream",
     "text": [
      "You are a kid\n"
     ]
    }
   ],
   "source": [
    "age = 15\n",
    "\n",
    "if age>=18:\n",
    "    print('You are an adult')\n",
    "else:\n",
    "    print('You are a kid')"
   ]
  },
  {
   "cell_type": "code",
   "execution_count": 115,
   "id": "b79f4560-4714-4b3b-8fd3-d59ff275bde0",
   "metadata": {},
   "outputs": [
    {
     "name": "stdout",
     "output_type": "stream",
     "text": [
      "You are an adult\n"
     ]
    }
   ],
   "source": [
    "age = 30\n",
    "\n",
    "if age>=18:\n",
    "    print('You are an adult')\n",
    "elif age>=13:\n",
    "    print('You are a teenager')\n",
    "else:\n",
    "    print('You are a kid')"
   ]
  },
  {
   "cell_type": "code",
   "execution_count": 121,
   "id": "d3c88951-4a99-4043-a0b1-1cceb6cc125a",
   "metadata": {},
   "outputs": [
    {
     "name": "stdout",
     "output_type": "stream",
     "text": [
      "You are a teenager\n"
     ]
    }
   ],
   "source": [
    "age = 15\n",
    "\n",
    "if age>=18:\n",
    "    print('You are an adult')\n",
    "elif age>=13:\n",
    "    print('You are a teenager')\n",
    "else:\n",
    "    print('You are a kid')"
   ]
  },
  {
   "cell_type": "markdown",
   "id": "7f8c6ed0-584b-44f5-b85c-441685b56319",
   "metadata": {},
   "source": [
    "# For Loop"
   ]
  },
  {
   "cell_type": "code",
   "execution_count": null,
   "id": "4fced4b1-2b1c-4f98-b722-a59a3edd0f9a",
   "metadata": {},
   "outputs": [],
   "source": [
    "for <variable> in <iterable>:\n",
    "    <code>"
   ]
  },
  {
   "cell_type": "code",
   "execution_count": 5,
   "id": "9bb99512-86ee-45b2-9e69-3564b37ea11a",
   "metadata": {},
   "outputs": [
    {
     "data": {
      "text/plain": [
       "['United States', 'India', 'China', 'Brazil']"
      ]
     },
     "execution_count": 5,
     "metadata": {},
     "output_type": "execute_result"
    }
   ],
   "source": [
    "countries"
   ]
  },
  {
   "cell_type": "code",
   "execution_count": 7,
   "id": "2ec19d3e-e42c-46cf-95ad-8f61e0855337",
   "metadata": {},
   "outputs": [
    {
     "name": "stdout",
     "output_type": "stream",
     "text": [
      "United States\n",
      "India\n",
      "China\n",
      "Brazil\n"
     ]
    }
   ],
   "source": [
    "for country in countries:\n",
    "    print(country)"
   ]
  },
  {
   "cell_type": "code",
   "execution_count": 9,
   "id": "c8c63fbd-f5ce-406a-979f-81eab5405d5d",
   "metadata": {},
   "outputs": [
    {
     "name": "stdout",
     "output_type": "stream",
     "text": [
      "0\n",
      "United States\n",
      "1\n",
      "India\n",
      "2\n",
      "China\n",
      "3\n",
      "Brazil\n"
     ]
    }
   ],
   "source": [
    "for i, country in enumerate(countries):\n",
    "    print(i)\n",
    "    print(country)"
   ]
  },
  {
   "cell_type": "code",
   "execution_count": 11,
   "id": "ca1079e3-1a42-4b08-aa9a-b59797bbbd7d",
   "metadata": {},
   "outputs": [
    {
     "data": {
      "text/plain": [
       "{'name': 'Zamin', 'age': '23'}"
      ]
     },
     "execution_count": 11,
     "metadata": {},
     "output_type": "execute_result"
    }
   ],
   "source": [
    "my_data = {'name':'Zamin', 'age':'23'}\n",
    "my_data"
   ]
  },
  {
   "cell_type": "code",
   "execution_count": 15,
   "id": "bf158344-7894-4542-bd92-f89045295d84",
   "metadata": {},
   "outputs": [
    {
     "name": "stdout",
     "output_type": "stream",
     "text": [
      "name\n",
      "Zamin\n",
      "age\n",
      "23\n"
     ]
    }
   ],
   "source": [
    "for key,value in my_data.items():\n",
    "    print(key)\n",
    "    print(value)\n",
    "    "
   ]
  },
  {
   "cell_type": "code",
   "execution_count": 17,
   "id": "444f4e6e-0ee4-45cb-b8cd-7dcff1aa27d1",
   "metadata": {},
   "outputs": [
    {
     "name": "stdout",
     "output_type": "stream",
     "text": [
      "apple\n",
      "banana\n",
      "mango\n"
     ]
    }
   ],
   "source": [
    "fruits = ['apple','banana','mango']\n",
    "for fruit in fruits:\n",
    "    print(fruit)"
   ]
  },
  {
   "cell_type": "code",
   "execution_count": 19,
   "id": "55893686-4a0b-4af8-9df1-6cf605f77ed6",
   "metadata": {},
   "outputs": [
    {
     "name": "stdout",
     "output_type": "stream",
     "text": [
      "K\n",
      "a\n",
      "s\n",
      "h\n",
      "m\n",
      "i\n",
      "r\n"
     ]
    }
   ],
   "source": [
    "word = 'Kashmir'\n",
    "for letter in word:\n",
    "    print(letter)"
   ]
  },
  {
   "cell_type": "code",
   "execution_count": 23,
   "id": "da7e5262-c0aa-494e-ad23-937266fa15d5",
   "metadata": {},
   "outputs": [
    {
     "name": "stdout",
     "output_type": "stream",
     "text": [
      "1\n",
      "2\n",
      "3\n",
      "4\n",
      "5\n",
      "6\n",
      "7\n",
      "8\n",
      "9\n",
      "10\n"
     ]
    }
   ],
   "source": [
    "for i in range(1,11):\n",
    "    print(i)"
   ]
  },
  {
   "cell_type": "code",
   "execution_count": 27,
   "id": "e769a77f-907d-4db4-85df-615b315c1a7b",
   "metadata": {},
   "outputs": [
    {
     "name": "stdout",
     "output_type": "stream",
     "text": [
      "2\n",
      "4\n",
      "6\n",
      "8\n",
      "10\n",
      "12\n",
      "14\n",
      "16\n",
      "18\n",
      "20\n"
     ]
    }
   ],
   "source": [
    "for i in range(1,21):\n",
    "    if i % 2 == 0: # this checks if i is divisible by 2,,,% is the modulo operator which gives the remainder\n",
    "        print(i)"
   ]
  },
  {
   "cell_type": "code",
   "execution_count": 35,
   "id": "a4219b94-ac7a-4164-b253-8065566856a2",
   "metadata": {},
   "outputs": [
    {
     "name": "stdout",
     "output_type": "stream",
     "text": [
      "Total= 20\n"
     ]
    }
   ],
   "source": [
    "numbers = [2, 4, 6, 8]\n",
    "total = 0   # intitialized\n",
    "for num in numbers:\n",
    "    total += num  # this is short for total = total + num  \n",
    "print(\"Total=\", total)"
   ]
  },
  {
   "cell_type": "code",
   "execution_count": 41,
   "id": "a8a8998e-98ed-4fd6-b1bc-fe037edcd846",
   "metadata": {},
   "outputs": [
    {
     "name": "stdout",
     "output_type": "stream",
     "text": [
      "1 * 1 = 1\n",
      "1 * 2 = 2\n",
      "1 * 3 = 3\n",
      "-----\n",
      "2 * 1 = 2\n",
      "2 * 2 = 4\n",
      "2 * 3 = 6\n",
      "-----\n",
      "3 * 1 = 3\n",
      "3 * 2 = 6\n",
      "3 * 3 = 9\n",
      "-----\n"
     ]
    }
   ],
   "source": [
    "for i in range(1,4):\n",
    "    for j in range(1,4):\n",
    "        print(i,'*',j, '=',i*j)\n",
    "    print(\"-----\")        "
   ]
  },
  {
   "cell_type": "markdown",
   "id": "192de822-78f7-4089-a202-cf414136d301",
   "metadata": {},
   "source": [
    "# Function"
   ]
  },
  {
   "cell_type": "code",
   "execution_count": null,
   "id": "aeb91e27-da76-40cb-bd47-2717a0ad836d",
   "metadata": {},
   "outputs": [],
   "source": [
    "def function(<parameters>):\n",
    "    <code>\n",
    "    return <data>"
   ]
  },
  {
   "cell_type": "code",
   "execution_count": 44,
   "id": "6aff97ae-9025-468b-a692-953a1f3ca053",
   "metadata": {},
   "outputs": [],
   "source": [
    "def sum_values(a, b):\n",
    "    x = a + b\n",
    "    return x"
   ]
  },
  {
   "cell_type": "code",
   "execution_count": 46,
   "id": "43a856d9-d8a3-4937-8177-85525ad072a2",
   "metadata": {},
   "outputs": [
    {
     "data": {
      "text/plain": [
       "4"
      ]
     },
     "execution_count": 46,
     "metadata": {},
     "output_type": "execute_result"
    }
   ],
   "source": [
    "sum_values(1, 3)"
   ]
  },
  {
   "cell_type": "code",
   "execution_count": 48,
   "id": "2d930832-03ab-4dd4-b820-4fa42ec03b5d",
   "metadata": {},
   "outputs": [],
   "source": [
    "def sum_values(a, b):\n",
    "    return a + b"
   ]
  },
  {
   "cell_type": "code",
   "execution_count": 50,
   "id": "59f9be2d-eaec-445b-8f61-0d27b46c2831",
   "metadata": {},
   "outputs": [
    {
     "data": {
      "text/plain": [
       "48"
      ]
     },
     "execution_count": 50,
     "metadata": {},
     "output_type": "execute_result"
    }
   ],
   "source": [
    "sum_values(24, 24)"
   ]
  },
  {
   "cell_type": "code",
   "execution_count": 52,
   "id": "52fd41c9-1f16-417c-9329-9d358c544df5",
   "metadata": {},
   "outputs": [],
   "source": [
    "def mul_values(a, b):\n",
    "    return a * b"
   ]
  },
  {
   "cell_type": "code",
   "execution_count": 54,
   "id": "6e201126-e20a-4021-a438-1e0ac5b552d6",
   "metadata": {},
   "outputs": [
    {
     "data": {
      "text/plain": [
       "81"
      ]
     },
     "execution_count": 54,
     "metadata": {},
     "output_type": "execute_result"
    }
   ],
   "source": [
    "mul_values(9, 9)"
   ]
  },
  {
   "cell_type": "code",
   "execution_count": 88,
   "id": "1da0e27e-6ebd-4bc2-b14e-51833fbeb51b",
   "metadata": {},
   "outputs": [],
   "source": [
    "def multiplication_table(n):\n",
    "    for i in range(1,11):\n",
    "        print(n, '*', i, '=' , n * i)\n",
    "    print(\"-----\")"
   ]
  },
  {
   "cell_type": "code",
   "execution_count": 90,
   "id": "0d645bd8-32b6-4b33-b69f-5baaf9cc16b3",
   "metadata": {},
   "outputs": [
    {
     "name": "stdout",
     "output_type": "stream",
     "text": [
      "7 * 1 = 7\n",
      "7 * 2 = 14\n",
      "7 * 3 = 21\n",
      "7 * 4 = 28\n",
      "7 * 5 = 35\n",
      "7 * 6 = 42\n",
      "7 * 7 = 49\n",
      "7 * 8 = 56\n",
      "7 * 9 = 63\n",
      "7 * 10 = 70\n",
      "-----\n"
     ]
    }
   ],
   "source": [
    "multiplication_table(7,)"
   ]
  },
  {
   "cell_type": "code",
   "execution_count": 95,
   "id": "2380260b-c8cd-4c3f-b98e-e7b8d26ba33f",
   "metadata": {},
   "outputs": [],
   "source": [
    "def multiplication_table(n,m):\n",
    "    for n in range(n,m + 1):\n",
    "        for i in range(1,11):\n",
    "              print(n, '*', i, '=' , n * i)\n",
    "        print(\"-----\")    \n",
    "            \n",
    "        \n"
   ]
  },
  {
   "cell_type": "code",
   "execution_count": 99,
   "id": "ecb759d6-731d-40ac-aa6a-55ca9ec6af4a",
   "metadata": {},
   "outputs": [
    {
     "name": "stdout",
     "output_type": "stream",
     "text": [
      "7 * 1 = 7\n",
      "7 * 2 = 14\n",
      "7 * 3 = 21\n",
      "7 * 4 = 28\n",
      "7 * 5 = 35\n",
      "7 * 6 = 42\n",
      "7 * 7 = 49\n",
      "7 * 8 = 56\n",
      "7 * 9 = 63\n",
      "7 * 10 = 70\n",
      "-----\n",
      "8 * 1 = 8\n",
      "8 * 2 = 16\n",
      "8 * 3 = 24\n",
      "8 * 4 = 32\n",
      "8 * 5 = 40\n",
      "8 * 6 = 48\n",
      "8 * 7 = 56\n",
      "8 * 8 = 64\n",
      "8 * 9 = 72\n",
      "8 * 10 = 80\n",
      "-----\n",
      "9 * 1 = 9\n",
      "9 * 2 = 18\n",
      "9 * 3 = 27\n",
      "9 * 4 = 36\n",
      "9 * 5 = 45\n",
      "9 * 6 = 54\n",
      "9 * 7 = 63\n",
      "9 * 8 = 72\n",
      "9 * 9 = 81\n",
      "9 * 10 = 90\n",
      "-----\n"
     ]
    }
   ],
   "source": [
    "multiplication_table(7,9)"
   ]
  },
  {
   "cell_type": "code",
   "execution_count": 105,
   "id": "35f33fae-3eaa-474d-9741-5122b9aa57d3",
   "metadata": {},
   "outputs": [],
   "source": [
    "def multiplication_table(numbers):\n",
    "    for n in numbers:\n",
    "        for i in range(1,11):\n",
    "              print(n, '*', i, '=' , n * i)\n",
    "        print(\"-----\")    \n",
    "            \n",
    "        \n"
   ]
  },
  {
   "cell_type": "code",
   "execution_count": 109,
   "id": "1eba52e9-2ea2-4ebc-9338-60b9d362092c",
   "metadata": {},
   "outputs": [
    {
     "name": "stdout",
     "output_type": "stream",
     "text": [
      "7 * 1 = 7\n",
      "7 * 2 = 14\n",
      "7 * 3 = 21\n",
      "7 * 4 = 28\n",
      "7 * 5 = 35\n",
      "7 * 6 = 42\n",
      "7 * 7 = 49\n",
      "7 * 8 = 56\n",
      "7 * 9 = 63\n",
      "7 * 10 = 70\n",
      "-----\n",
      "9 * 1 = 9\n",
      "9 * 2 = 18\n",
      "9 * 3 = 27\n",
      "9 * 4 = 36\n",
      "9 * 5 = 45\n",
      "9 * 6 = 54\n",
      "9 * 7 = 63\n",
      "9 * 8 = 72\n",
      "9 * 9 = 81\n",
      "9 * 10 = 90\n",
      "-----\n"
     ]
    }
   ],
   "source": [
    "multiplication_table([7,9])"
   ]
  },
  {
   "cell_type": "markdown",
   "id": "7bea1dcd-f636-483e-975b-758f4e02d6f3",
   "metadata": {},
   "source": [
    "# Built-in Functions"
   ]
  },
  {
   "cell_type": "code",
   "execution_count": 112,
   "id": "88aa4486-1798-4584-a16f-efc2c248e631",
   "metadata": {},
   "outputs": [],
   "source": [
    "countries = ['United States','India','China','Brazil']"
   ]
  },
  {
   "cell_type": "code",
   "execution_count": 114,
   "id": "bd82e8a6-e001-4e1e-9fd2-d7d41d3a65b3",
   "metadata": {},
   "outputs": [
    {
     "data": {
      "text/plain": [
       "4"
      ]
     },
     "execution_count": 114,
     "metadata": {},
     "output_type": "execute_result"
    }
   ],
   "source": [
    "len(countries)"
   ]
  },
  {
   "cell_type": "code",
   "execution_count": 116,
   "id": "f24341b7-0f41-49bf-a014-e7e5460dabc2",
   "metadata": {},
   "outputs": [
    {
     "data": {
      "text/plain": [
       "99"
      ]
     },
     "execution_count": 116,
     "metadata": {},
     "output_type": "execute_result"
    }
   ],
   "source": [
    "max([10, 63, 81, 1, 99])"
   ]
  },
  {
   "cell_type": "code",
   "execution_count": 118,
   "id": "b537b63d-cbfa-46fd-b96b-a4ca0f97b09c",
   "metadata": {},
   "outputs": [
    {
     "data": {
      "text/plain": [
       "1"
      ]
     },
     "execution_count": 118,
     "metadata": {},
     "output_type": "execute_result"
    }
   ],
   "source": [
    "min([10, 63, 81, 1, 99])"
   ]
  },
  {
   "cell_type": "code",
   "execution_count": 120,
   "id": "0244ec3f-d203-4b74-a603-b36fd940e7c2",
   "metadata": {},
   "outputs": [
    {
     "data": {
      "text/plain": [
       "list"
      ]
     },
     "execution_count": 120,
     "metadata": {},
     "output_type": "execute_result"
    }
   ],
   "source": [
    "type(countries)"
   ]
  },
  {
   "cell_type": "code",
   "execution_count": 122,
   "id": "2cf3e474-492d-4889-865b-a77494466d9c",
   "metadata": {},
   "outputs": [
    {
     "data": {
      "text/plain": [
       "list"
      ]
     },
     "execution_count": 122,
     "metadata": {},
     "output_type": "execute_result"
    }
   ],
   "source": [
    "type([10, 63, 81, 1, 99])"
   ]
  },
  {
   "cell_type": "code",
   "execution_count": 124,
   "id": "3ecc983d-4d43-4fc0-8f8a-8d9942b143b8",
   "metadata": {},
   "outputs": [
    {
     "data": {
      "text/plain": [
       "range(1, 10, 2)"
      ]
     },
     "execution_count": 124,
     "metadata": {},
     "output_type": "execute_result"
    }
   ],
   "source": [
    "range(1, 10, 2)"
   ]
  },
  {
   "cell_type": "code",
   "execution_count": 126,
   "id": "894addfe-e3b1-4186-bc32-c5d5a064d301",
   "metadata": {},
   "outputs": [
    {
     "name": "stdout",
     "output_type": "stream",
     "text": [
      "1\n",
      "3\n",
      "5\n",
      "7\n",
      "9\n"
     ]
    }
   ],
   "source": [
    "for i in range(1, 10, 2):\n",
    "    print(i)"
   ]
  },
  {
   "cell_type": "code",
   "execution_count": 130,
   "id": "09c74a65-35ba-4f33-a696-8d99812894a7",
   "metadata": {},
   "outputs": [
    {
     "name": "stdout",
     "output_type": "stream",
     "text": [
      "1\n",
      "6\n",
      "11\n",
      "16\n",
      "21\n",
      "26\n",
      "31\n",
      "36\n",
      "41\n",
      "46\n"
     ]
    }
   ],
   "source": [
    "for i in range(1, 50, 5):\n",
    "    print(i)"
   ]
  },
  {
   "cell_type": "markdown",
   "id": "07ac0b61-e477-4d73-9edc-3d93604eb528",
   "metadata": {},
   "source": [
    "# Module"
   ]
  },
  {
   "cell_type": "code",
   "execution_count": null,
   "id": "da528cdb-2a8d-426f-a4d0-3420cd45c579",
   "metadata": {},
   "outputs": [],
   "source": [
    "import"
   ]
  },
  {
   "cell_type": "markdown",
   "id": "51b1167f-ecda-4b3a-bd8e-bdabce8dd8a1",
   "metadata": {},
   "source": [
    "# OS Module"
   ]
  },
  {
   "cell_type": "code",
   "execution_count": 3,
   "id": "80c9c749-66bb-4d56-9fb6-97caaca92639",
   "metadata": {},
   "outputs": [],
   "source": [
    "import os"
   ]
  },
  {
   "cell_type": "code",
   "execution_count": 5,
   "id": "30aefd93-ad26-46ca-b905-7b556bc989e6",
   "metadata": {},
   "outputs": [
    {
     "data": {
      "text/plain": [
       "'C:\\\\Users\\\\Dell'"
      ]
     },
     "execution_count": 5,
     "metadata": {},
     "output_type": "execute_result"
    }
   ],
   "source": [
    "os.getcwd()  # current working directory"
   ]
  },
  {
   "cell_type": "code",
   "execution_count": 7,
   "id": "8094a6ca-5c32-4e17-9433-c5f55807dc12",
   "metadata": {},
   "outputs": [
    {
     "data": {
      "text/plain": [
       "['.anaconda',\n",
       " '.conda',\n",
       " '.condarc',\n",
       " '.continuum',\n",
       " '.ipynb_checkpoints',\n",
       " '.ipython',\n",
       " '.jupyter',\n",
       " '.matplotlib',\n",
       " '.vscode',\n",
       " '3D Objects',\n",
       " 'anaconda3',\n",
       " 'AppData',\n",
       " 'Application Data',\n",
       " 'Contacts',\n",
       " 'Cookies',\n",
       " 'day1 python.ipynb',\n",
       " 'Desktop',\n",
       " 'Documents',\n",
       " 'Downloads',\n",
       " 'Favorites',\n",
       " 'IntelGraphicsProfiles',\n",
       " 'Links',\n",
       " 'Local Settings',\n",
       " 'M python day 1.ipynb',\n",
       " 'MasteringPython.ipynb',\n",
       " 'Music',\n",
       " 'My Documents',\n",
       " 'NetHood',\n",
       " 'NTUSER.DAT',\n",
       " 'ntuser.dat.LOG1',\n",
       " 'ntuser.dat.LOG2',\n",
       " 'NTUSER.DAT{53b39e88-18c4-11ea-a811-000d3aa4692b}.TM.blf',\n",
       " 'NTUSER.DAT{53b39e88-18c4-11ea-a811-000d3aa4692b}.TMContainer00000000000000000001.regtrans-ms',\n",
       " 'NTUSER.DAT{53b39e88-18c4-11ea-a811-000d3aa4692b}.TMContainer00000000000000000002.regtrans-ms',\n",
       " 'ntuser.ini',\n",
       " 'OneDrive',\n",
       " 'Pictures',\n",
       " 'PrintHood',\n",
       " 'Recent',\n",
       " 'Saved Games',\n",
       " 'Searches',\n",
       " 'SendTo',\n",
       " 'Start Menu',\n",
       " 'Templates',\n",
       " 'Videos']"
      ]
     },
     "execution_count": 7,
     "metadata": {},
     "output_type": "execute_result"
    }
   ],
   "source": [
    "os.listdir()"
   ]
  },
  {
   "cell_type": "code",
   "execution_count": 11,
   "id": "a849cfc2-9f29-4e6b-9c67-99f243ca4e21",
   "metadata": {},
   "outputs": [],
   "source": [
    "os.makedirs(\"New Folder\")"
   ]
  },
  {
   "cell_type": "code",
   "execution_count": 14,
   "id": "408db72f-95b9-4bed-bdb6-a0f03a0587c3",
   "metadata": {},
   "outputs": [
    {
     "data": {
      "text/plain": [
       "['.anaconda',\n",
       " '.conda',\n",
       " '.condarc',\n",
       " '.continuum',\n",
       " '.ipynb_checkpoints',\n",
       " '.ipython',\n",
       " '.jupyter',\n",
       " '.matplotlib',\n",
       " '.vscode',\n",
       " '3D Objects',\n",
       " 'anaconda3',\n",
       " 'AppData',\n",
       " 'Application Data',\n",
       " 'Contacts',\n",
       " 'Cookies',\n",
       " 'day1 python.ipynb',\n",
       " 'Desktop',\n",
       " 'Documents',\n",
       " 'Downloads',\n",
       " 'Favorites',\n",
       " 'IntelGraphicsProfiles',\n",
       " 'Links',\n",
       " 'Local Settings',\n",
       " 'M python day 1.ipynb',\n",
       " 'MasteringPython.ipynb',\n",
       " 'Music',\n",
       " 'My Documents',\n",
       " 'NetHood',\n",
       " 'New Folder',\n",
       " 'NTUSER.DAT',\n",
       " 'ntuser.dat.LOG1',\n",
       " 'ntuser.dat.LOG2',\n",
       " 'NTUSER.DAT{53b39e88-18c4-11ea-a811-000d3aa4692b}.TM.blf',\n",
       " 'NTUSER.DAT{53b39e88-18c4-11ea-a811-000d3aa4692b}.TMContainer00000000000000000001.regtrans-ms',\n",
       " 'NTUSER.DAT{53b39e88-18c4-11ea-a811-000d3aa4692b}.TMContainer00000000000000000002.regtrans-ms',\n",
       " 'ntuser.ini',\n",
       " 'OneDrive',\n",
       " 'Pictures',\n",
       " 'PrintHood',\n",
       " 'Recent',\n",
       " 'Saved Games',\n",
       " 'Searches',\n",
       " 'SendTo',\n",
       " 'Start Menu',\n",
       " 'Templates',\n",
       " 'Videos']"
      ]
     },
     "execution_count": 14,
     "metadata": {},
     "output_type": "execute_result"
    }
   ],
   "source": [
    "os.listdir()"
   ]
  },
  {
   "cell_type": "code",
   "execution_count": null,
   "id": "87770129-4522-40e5-9359-f72621280045",
   "metadata": {},
   "outputs": [],
   "source": []
  }
 ],
 "metadata": {
  "kernelspec": {
   "display_name": "Python 3 (ipykernel)",
   "language": "python",
   "name": "python3"
  },
  "language_info": {
   "codemirror_mode": {
    "name": "ipython",
    "version": 3
   },
   "file_extension": ".py",
   "mimetype": "text/x-python",
   "name": "python",
   "nbconvert_exporter": "python",
   "pygments_lexer": "ipython3",
   "version": "3.12.4"
  }
 },
 "nbformat": 4,
 "nbformat_minor": 5
}
